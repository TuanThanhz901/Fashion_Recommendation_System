{
  "cells": [
    {
      "cell_type": "markdown",
      "metadata": {
        "id": "CqsZcJEkSTMN"
      },
      "source": [
        "# Lib"
      ]
    },
    {
      "cell_type": "code",
      "source": [
        "import tensorflow as tf\n",
        "import numpy as np\n",
        "import scipy\n",
        "import sklearn\n",
        "\n",
        "print(\"TensorFlow version:\", tf.__version__)\n",
        "print(\"NumPy version:\", np.__version__)\n",
        "print(\"SciPy version:\", scipy.__version__)\n",
        "print(\"Scikit-learn version:\", sklearn.__version__)\n"
      ],
      "metadata": {
        "colab": {
          "base_uri": "https://localhost:8080/"
        },
        "id": "ns9r7Y2h92Ng",
        "outputId": "48ffbd39-6bc2-4386-a38d-3fd7c3a1ed46"
      },
      "execution_count": 1,
      "outputs": [
        {
          "output_type": "stream",
          "name": "stdout",
          "text": [
            "TensorFlow version: 2.18.0\n",
            "NumPy version: 1.26.4\n",
            "SciPy version: 1.13.1\n",
            "Scikit-learn version: 1.6.1\n"
          ]
        }
      ]
    },
    {
      "cell_type": "code",
      "source": [
        "!python --version\n"
      ],
      "metadata": {
        "colab": {
          "base_uri": "https://localhost:8080/"
        },
        "id": "-HjKQQKc9-Em",
        "outputId": "e498c2a9-f53d-498f-e54a-c175b5cb5301"
      },
      "execution_count": 2,
      "outputs": [
        {
          "output_type": "stream",
          "name": "stdout",
          "text": [
            "Python 3.11.11\n"
          ]
        }
      ]
    },
    {
      "cell_type": "code",
      "execution_count": null,
      "metadata": {
        "colab": {
          "base_uri": "https://localhost:8080/"
        },
        "id": "BBV-cDbyMuCv",
        "outputId": "98f8beeb-561e-4017-9d11-9e8fc45cd564"
      },
      "outputs": [
        {
          "output_type": "stream",
          "name": "stdout",
          "text": [
            "Architecture:             x86_64\n",
            "  CPU op-mode(s):         32-bit, 64-bit\n",
            "  Address sizes:          46 bits physical, 48 bits virtual\n",
            "  Byte Order:             Little Endian\n",
            "CPU(s):                   2\n",
            "  On-line CPU(s) list:    0,1\n",
            "Vendor ID:                GenuineIntel\n",
            "  Model name:             Intel(R) Xeon(R) CPU @ 2.20GHz\n",
            "    CPU family:           6\n",
            "    Model:                79\n",
            "    Thread(s) per core:   2\n",
            "    Core(s) per socket:   1\n",
            "    Socket(s):            1\n",
            "    Stepping:             0\n",
            "    BogoMIPS:             4400.41\n",
            "    Flags:                fpu vme de pse tsc msr pae mce cx8 apic sep mtrr pge mca cmov pat pse36 cl\n",
            "                          flush mmx fxsr sse sse2 ss ht syscall nx pdpe1gb rdtscp lm constant_tsc re\n",
            "                          p_good nopl xtopology nonstop_tsc cpuid tsc_known_freq pni pclmulqdq ssse3\n",
            "                           fma cx16 pcid sse4_1 sse4_2 x2apic movbe popcnt aes xsave avx f16c rdrand\n",
            "                           hypervisor lahf_lm abm 3dnowprefetch invpcid_single ssbd ibrs ibpb stibp \n",
            "                          fsgsbase tsc_adjust bmi1 hle avx2 smep bmi2 erms invpcid rtm rdseed adx sm\n",
            "                          ap xsaveopt arat md_clear arch_capabilities\n",
            "Virtualization features:  \n",
            "  Hypervisor vendor:      KVM\n",
            "  Virtualization type:    full\n",
            "Caches (sum of all):      \n",
            "  L1d:                    32 KiB (1 instance)\n",
            "  L1i:                    32 KiB (1 instance)\n",
            "  L2:                     256 KiB (1 instance)\n",
            "  L3:                     55 MiB (1 instance)\n",
            "NUMA:                     \n",
            "  NUMA node(s):           1\n",
            "  NUMA node0 CPU(s):      0,1\n",
            "Vulnerabilities:          \n",
            "  Gather data sampling:   Not affected\n",
            "  Itlb multihit:          Not affected\n",
            "  L1tf:                   Mitigation; PTE Inversion\n",
            "  Mds:                    Vulnerable; SMT Host state unknown\n",
            "  Meltdown:               Vulnerable\n",
            "  Mmio stale data:        Vulnerable\n",
            "  Reg file data sampling: Not affected\n",
            "  Retbleed:               Vulnerable\n",
            "  Spec rstack overflow:   Not affected\n",
            "  Spec store bypass:      Vulnerable\n",
            "  Spectre v1:             Vulnerable: __user pointer sanitization and usercopy barriers only; no swa\n",
            "                          pgs barriers\n",
            "  Spectre v2:             Vulnerable; IBPB: disabled; STIBP: disabled; PBRSB-eIBRS: Not affected; BH\n",
            "                          I: Vulnerable (Syscall hardening enabled)\n",
            "  Srbds:                  Not affected\n",
            "  Tsx async abort:        Vulnerable\n"
          ]
        }
      ],
      "source": [
        "!lscpu\n"
      ]
    },
    {
      "cell_type": "code",
      "execution_count": null,
      "metadata": {
        "colab": {
          "base_uri": "https://localhost:8080/"
        },
        "id": "tJWUo07ptZqA",
        "outputId": "57725ec1-0f0e-42ac-c1a9-f0798758b079"
      },
      "outputs": [
        {
          "output_type": "stream",
          "name": "stdout",
          "text": [
            "TensorFlow version: 2.18.0\n",
            "GPU Available: [PhysicalDevice(name='/physical_device:CPU:0', device_type='CPU')]\n"
          ]
        }
      ],
      "source": [
        "# Import và cấu hình\n",
        "import tensorflow as tf\n",
        "print(\"TensorFlow version:\", tf.__version__)\n",
        "print(\"GPU Available:\", tf.config.list_physical_devices('CPU'))"
      ]
    },
    {
      "cell_type": "code",
      "execution_count": null,
      "metadata": {
        "colab": {
          "base_uri": "https://localhost:8080/"
        },
        "id": "ZPs7OOP5nWEV",
        "outputId": "ff0e87c2-74ee-481a-92d5-9c26d9abce71"
      },
      "outputs": [
        {
          "output_type": "stream",
          "name": "stdout",
          "text": [
            "GPU available: []\n"
          ]
        }
      ],
      "source": [
        "print(\"GPU available:\", tf.config.list_physical_devices('GPU'))\n"
      ]
    },
    {
      "cell_type": "code",
      "execution_count": null,
      "metadata": {
        "colab": {
          "base_uri": "https://localhost:8080/"
        },
        "id": "mXU5ig4EVzy3",
        "outputId": "62255a2c-a83c-4e00-fef3-8c2c84a48106"
      },
      "outputs": [
        {
          "output_type": "stream",
          "name": "stdout",
          "text": [
            "nvcc: NVIDIA (R) Cuda compiler driver\n",
            "Copyright (c) 2005-2024 NVIDIA Corporation\n",
            "Built on Thu_Jun__6_02:18:23_PDT_2024\n",
            "Cuda compilation tools, release 12.5, V12.5.82\n",
            "Build cuda_12.5.r12.5/compiler.34385749_0\n"
          ]
        }
      ],
      "source": [
        "!nvcc --version\n"
      ]
    },
    {
      "cell_type": "code",
      "execution_count": null,
      "metadata": {
        "colab": {
          "base_uri": "https://localhost:8080/"
        },
        "id": "UlEyVCEupyG6",
        "outputId": "af947fbf-6c1b-449e-da18-a7910b750493"
      },
      "outputs": [
        {
          "output_type": "stream",
          "name": "stdout",
          "text": [
            "Mounted at /content/drive\n"
          ]
        }
      ],
      "source": [
        "from google.colab import drive\n",
        "drive.mount(\"/content/drive\", force_remount=True)"
      ]
    },
    {
      "cell_type": "markdown",
      "metadata": {
        "id": "NC51fOADSc1A"
      },
      "source": [
        "# Test"
      ]
    },
    {
      "cell_type": "markdown",
      "metadata": {
        "id": "7cPHWhKVVsen"
      },
      "source": [
        "### LightGCN_bert_img"
      ]
    },
    {
      "cell_type": "code",
      "execution_count": null,
      "metadata": {
        "colab": {
          "base_uri": "https://localhost:8080/"
        },
        "id": "L5JETD6hawcf",
        "outputId": "9e9fee1b-72a6-4b2a-9f2d-2336900ecf48"
      },
      "outputs": [
        {
          "output_type": "stream",
          "name": "stdout",
          "text": [
            "/content/drive/MyDrive/da_cntt/RS\n",
            "2025-02-10 06:59:01.727241: E external/local_xla/xla/stream_executor/cuda/cuda_fft.cc:477] Unable to register cuFFT factory: Attempting to register factory for plugin cuFFT when one has already been registered\n",
            "WARNING: All log messages before absl::InitializeLog() is called are written to STDERR\n",
            "E0000 00:00:1739170741.757888    1123 cuda_dnn.cc:8310] Unable to register cuDNN factory: Attempting to register factory for plugin cuDNN when one has already been registered\n",
            "E0000 00:00:1739170741.766683    1123 cuda_blas.cc:1418] Unable to register cuBLAS factory: Attempting to register factory for plugin cuBLAS when one has already been registered\n",
            "eval_score_matrix_foldout with python\n",
            "n_users=909, n_items=8944\n",
            "n_interactions=27522\n",
            "n_train=21636, n_test=5886, sparsity=0.00339\n",
            "2025-02-10 06:59:37.272147: E external/local_xla/xla/stream_executor/cuda/cuda_driver.cc:152] failed call to cuInit: INTERNAL: CUDA error: Failed call to cuInit: UNKNOWN ERROR (303)\n",
            "already load interaction adj matrix (9853, 9853) 1.1051290035247803\n",
            "already load social adj matrix (909, 909) 0.4369494915008545\n",
            "already load similar users adj matrix (909, 909) 0.528508186340332\n",
            "already load tfidf item similarity adj matrix (8944, 8944) 0.7744231224060059\n",
            "already load bert item similarity adj matrix (8944, 8944) 0.6700384616851807\n",
            "already load full bert item similarity adj matrix (8944, 8944) 0.37227582931518555\n",
            "tokenizer_config.json: 100% 48.0/48.0 [00:00<00:00, 255kB/s]\n",
            "vocab.txt: 100% 232k/232k [00:00<00:00, 6.36MB/s]\n",
            "tokenizer.json: 100% 466k/466k [00:00<00:00, 39.3MB/s]\n",
            "config.json: 100% 570/570 [00:00<00:00, 2.76MB/s]\n",
            "model.safetensors: 100% 440M/440M [00:01<00:00, 226MB/s]\n",
            "Text embeddings shape: (8944, 768)\n",
            "Image embeddings shape: (8944, 768)\n",
            "generate symmetrically normalized multimodal similarity adjacency matrix.\n",
            "Image embeddings shape: (8944, 768)\n",
            "generate symmetrically normalized img similarity adjacency matrix.\n",
            "using xavier initialization\n",
            "WARNING: All log messages before absl::InitializeLog() is called are written to STDERR\n",
            "I0000 00:00:1739191424.873107    1123 mlir_graph_optimization_pass.cc:401] MLIR V1 optimization pass is not enabled\n",
            "without pretraining.\n",
            "Epoch 1 [67.2s]: train==[0.69166=0.69166 + 0.00000]\n",
            "Epoch 2 [9.3s]: train==[0.69125=0.69125 + 0.00000]\n",
            "Epoch 3 [12.2s]: train==[0.69071=0.69071 + 0.00000]\n",
            "Epoch 4 [8.2s]: train==[0.69010=0.69010 + 0.00000]\n",
            "Epoch 5 [10.1s]: train==[0.68934=0.68934 + 0.00000]\n",
            "Epoch 6 [9.1s]: train==[0.68846=0.68846 + 0.00000]\n",
            "Epoch 7 [9.3s]: train==[0.68749=0.68749 + 0.00000]\n",
            "Epoch 8 [9.7s]: train==[0.68629=0.68628 + 0.00000]\n",
            "Epoch 9 [8.6s]: train==[0.68495=0.68495 + 0.00000]\n",
            "Epoch 10: train==[0.68345=0.68344 + 0.00000 + 0.00000], recall=[0.06434, 0.31778, 0.57235, 0.73393], precision=[0.93509, 0.91111, 0.84290, 0.60336], ndcg=[0.93509, 0.91684, 0.89187, 0.85151], mrr=[0.93509, 4.55556, 8.42904, 12.06711], hit_ratio=[0.93509, 2.10236, 2.61389, 2.87111]\n",
            "Epoch 10: train==[0.68345=0.68344 + 0.00000 + 0.00000], recall=[0.00011, 0.00127, 0.00207, 0.00382], precision=[0.00110, 0.00110, 0.00110, 0.00116], ndcg=[0.00110, 0.00136, 0.00166, 0.00244], hit_ratio=[0.00110, 0.00279, 0.00354, 0.00433], mrr=[0.00110, 0.00550, 0.01100, 0.02310]\n",
            "save the weights in path:  weights/vcr5p_late_fusion/combigcn/64-64-64/l0.001_r1e-05\n",
            "Epoch 11 [10.6s]: train==[0.68169=0.68169 + 0.00000]\n",
            "Epoch 12 [10.2s]: train==[0.67966=0.67966 + 0.00000]\n",
            "Epoch 13 [9.0s]: train==[0.67751=0.67751 + 0.00000]\n",
            "Epoch 14 [9.0s]: train==[0.67494=0.67494 + 0.00000]\n",
            "Epoch 15 [9.6s]: train==[0.67231=0.67231 + 0.00000]\n",
            "Epoch 16 [8.9s]: train==[0.66924=0.66924 + 0.00000]\n",
            "Epoch 17 [10.3s]: train==[0.66556=0.66556 + 0.00000]\n",
            "Epoch 18 [8.2s]: train==[0.66208=0.66208 + 0.00000]\n",
            "Epoch 19 [10.2s]: train==[0.65785=0.65785 + 0.00000]\n",
            "Epoch 20: train==[0.65335=0.65335 + 0.00000 + 0.00000], recall=[0.05951, 0.29591, 0.52719, 0.66738], precision=[0.77998, 0.78284, 0.71375, 0.49802], ndcg=[0.77998, 0.78401, 0.75985, 0.73531], mrr=[0.77998, 3.91419, 7.13751, 9.96040], hit_ratio=[0.77998, 1.79156, 2.21899, 2.41903]\n",
            "Epoch 20: train==[0.65335=0.65335 + 0.00000 + 0.00000], recall=[0.00105, 0.00242, 0.00564, 0.00965], precision=[0.00330, 0.00242, 0.00297, 0.00259], ndcg=[0.00330, 0.00293, 0.00437, 0.00596], hit_ratio=[0.00330, 0.00537, 0.00763, 0.00913], mrr=[0.00330, 0.01210, 0.02970, 0.05171]\n",
            "save the weights in path:  weights/vcr5p_late_fusion/combigcn/64-64-64/l0.001_r1e-05\n",
            "Epoch 21 [13.1s]: train==[0.64862=0.64861 + 0.00000]\n",
            "Epoch 22 [7.9s]: train==[0.64315=0.64314 + 0.00000]\n",
            "Epoch 23 [10.1s]: train==[0.63758=0.63757 + 0.00000]\n",
            "Epoch 24 [7.9s]: train==[0.63197=0.63196 + 0.00001]\n",
            "Epoch 25 [10.1s]: train==[0.62510=0.62509 + 0.00001]\n",
            "Epoch 26 [9.7s]: train==[0.61845=0.61844 + 0.00001]\n",
            "Epoch 27 [9.1s]: train==[0.61131=0.61130 + 0.00001]\n",
            "Epoch 28 [10.0s]: train==[0.60422=0.60422 + 0.00001]\n",
            "Epoch 29 [8.3s]: train==[0.59511=0.59510 + 0.00001]\n",
            "Epoch 30: train==[0.58762=0.58761 + 0.00001 + 0.00000], recall=[0.04832, 0.23594, 0.40248, 0.50276], precision=[0.57426, 0.56612, 0.48790, 0.33091], ndcg=[0.57426, 0.57176, 0.53748, 0.53416], mrr=[0.57426, 2.83058, 4.87899, 6.61826], hit_ratio=[0.57426, 1.31344, 1.58569, 1.70744]\n",
            "Epoch 30: train==[0.58762=0.58761 + 0.00001 + 0.00000], recall=[0.00014, 0.00268, 0.00611, 0.01391], precision=[0.00110, 0.00220, 0.00286, 0.00330], ndcg=[0.00110, 0.00227, 0.00396, 0.00709], hit_ratio=[0.00110, 0.00387, 0.00614, 0.00878], mrr=[0.00110, 0.01100, 0.02860, 0.06601]\n",
            "Epoch 31 [8.4s]: train==[0.57870=0.57869 + 0.00001]\n",
            "Epoch 32 [10.2s]: train==[0.56912=0.56911 + 0.00001]\n",
            "Epoch 33 [9.0s]: train==[0.56112=0.56111 + 0.00001]\n",
            "Epoch 34 [9.2s]: train==[0.55164=0.55163 + 0.00001]\n",
            "Epoch 35 [9.4s]: train==[0.54224=0.54223 + 0.00001]\n",
            "Epoch 36 [10.1s]: train==[0.53120=0.53119 + 0.00001]\n",
            "Epoch 37 [10.6s]: train==[0.52281=0.52280 + 0.00001]\n",
            "Epoch 38 [8.0s]: train==[0.51141=0.51139 + 0.00001]\n",
            "Epoch 39 [10.3s]: train==[0.50150=0.50148 + 0.00001]\n",
            "Epoch 40: train==[0.49279=0.49278 + 0.00001 + 0.00000], recall=[0.03838, 0.18398, 0.30915, 0.39199], precision=[0.43784, 0.42134, 0.35809, 0.24312], ndcg=[0.43784, 0.42908, 0.40121, 0.40828], mrr=[0.43784, 2.10671, 3.58086, 4.86249], hit_ratio=[0.43784, 0.99094, 1.18716, 1.27702]\n",
            "Epoch 40: train==[0.49279=0.49278 + 0.00001 + 0.00000], recall=[0.00014, 0.00286, 0.00736, 0.01396], precision=[0.00110, 0.00242, 0.00330, 0.00330], ndcg=[0.00110, 0.00256, 0.00471, 0.00736], hit_ratio=[0.00110, 0.00457, 0.00722, 0.00941], mrr=[0.00110, 0.01210, 0.03300, 0.06601]\n",
            "Epoch 41 [9.0s]: train==[0.48070=0.48068 + 0.00002]\n",
            "Epoch 42 [12.3s]: train==[0.47046=0.47044 + 0.00002]\n",
            "Epoch 43 [8.2s]: train==[0.46025=0.46024 + 0.00002]\n",
            "Epoch 44 [10.2s]: train==[0.45179=0.45177 + 0.00002]\n",
            "Epoch 45 [7.9s]: train==[0.43972=0.43970 + 0.00002]\n",
            "Epoch 46 [10.7s]: train==[0.43043=0.43041 + 0.00002]\n",
            "Epoch 47 [8.1s]: train==[0.42036=0.42034 + 0.00002]\n",
            "Epoch 48 [10.2s]: train==[0.41068=0.41066 + 0.00002]\n",
            "Epoch 49 [9.1s]: train==[0.40291=0.40288 + 0.00002]\n",
            "Epoch 50: train==[0.39244=0.39242 + 0.00002 + 0.00000], recall=[0.03414, 0.15924, 0.26757, 0.34179], precision=[0.38614, 0.35996, 0.30671, 0.20891], ndcg=[0.38614, 0.36973, 0.34597, 0.35475], mrr=[0.38614, 1.79978, 3.06711, 4.17822], hit_ratio=[0.38614, 0.85860, 1.02697, 1.10404]\n",
            "Epoch 50: train==[0.39244=0.39242 + 0.00002 + 0.00000], recall=[0.00014, 0.00305, 0.00684, 0.01385], precision=[0.00110, 0.00264, 0.00308, 0.00325], ndcg=[0.00110, 0.00278, 0.00453, 0.00732], hit_ratio=[0.00110, 0.00508, 0.00734, 0.00953], mrr=[0.00110, 0.01320, 0.03080, 0.06491]\n",
            "Epoch 51 [10.1s]: train==[0.38392=0.38390 + 0.00002]\n",
            "Epoch 52 [8.2s]: train==[0.37573=0.37571 + 0.00002]\n",
            "Epoch 53 [10.6s]: train==[0.36591=0.36589 + 0.00003]\n",
            "Epoch 54 [8.7s]: train==[0.35814=0.35811 + 0.00003]\n",
            "Epoch 55 [10.1s]: train==[0.34904=0.34901 + 0.00003]\n",
            "Epoch 56 [9.6s]: train==[0.34179=0.34177 + 0.00003]\n",
            "Epoch 57 [8.9s]: train==[0.33383=0.33380 + 0.00003]\n",
            "Epoch 58 [10.2s]: train==[0.32643=0.32640 + 0.00003]\n",
            "Epoch 59 [8.4s]: train==[0.32032=0.32029 + 0.00003]\n",
            "Epoch 60: train==[0.31447=0.31443 + 0.00003 + 0.00000], recall=[0.03321, 0.15500, 0.25888, 0.33322], precision=[0.37184, 0.35093, 0.29670, 0.20440], ndcg=[0.37184, 0.35976, 0.33513, 0.34549], mrr=[0.37184, 1.75468, 2.96700, 4.08801], hit_ratio=[0.37184, 0.83434, 0.99501, 1.07239]\n",
            "Epoch 60: train==[0.31447=0.31443 + 0.00003 + 0.00000], recall=[0.00000, 0.00311, 0.00787, 0.01382], precision=[0.00000, 0.00286, 0.00341, 0.00308], ndcg=[0.00000, 0.00267, 0.00482, 0.00714], hit_ratio=[0.00000, 0.00444, 0.00704, 0.00887], mrr=[0.00000, 0.01430, 0.03410, 0.06161]\n",
            "Epoch 61 [9.0s]: train==[0.30538=0.30534 + 0.00003]\n",
            "Epoch 62 [9.5s]: train==[0.30043=0.30039 + 0.00003]\n",
            "Epoch 63 [9.4s]: train==[0.29097=0.29094 + 0.00003]\n",
            "Epoch 64 [8.6s]: train==[0.28670=0.28666 + 0.00004]\n",
            "Epoch 65 [10.4s]: train==[0.28039=0.28036 + 0.00004]\n",
            "Epoch 66 [10.6s]: train==[0.27426=0.27422 + 0.00004]\n",
            "Epoch 67 [10.0s]: train==[0.27042=0.27038 + 0.00004]\n",
            "Epoch 68 [8.5s]: train==[0.26207=0.26203 + 0.00004]\n",
            "Epoch 69 [9.9s]: train==[0.25869=0.25865 + 0.00004]\n",
            "Epoch 70: train==[0.25443=0.25438 + 0.00004 + 0.00000], recall=[0.03527, 0.16264, 0.27163, 0.34942], precision=[0.39714, 0.37140, 0.31298, 0.21634], ndcg=[0.39714, 0.37922, 0.35280, 0.36303], mrr=[0.39714, 1.85699, 3.12981, 4.32673], hit_ratio=[0.39714, 0.87769, 1.04721, 1.12960]\n",
            "Epoch 70: train==[0.25443=0.25438 + 0.00004 + 0.00000], recall=[0.00000, 0.00277, 0.00723, 0.01457], precision=[0.00000, 0.00286, 0.00319, 0.00347], ndcg=[0.00000, 0.00251, 0.00445, 0.00737], hit_ratio=[0.00000, 0.00425, 0.00655, 0.00888], mrr=[0.00000, 0.01430, 0.03190, 0.06931]\n",
            "Early stopping is triggered at step: 5 log:[0.         0.0027696  0.00723421 0.01456769]\n",
            "Best Iter=[1]@[958.4]\trecall=[0.00105\t0.00242\t0.00564\t0.00965], precision=[0.00330\t0.00242\t0.00297\t0.00259], ndcg=[0.00330\t0.00293\t0.00437\t0.00596], hit_ratio=[0.00330\t0.00537\t0.00763\t0.00913], mrr=[0.00330\t0.01210\t0.02970\t0.05171]\n"
          ]
        }
      ],
      "source": [
        "%cd /content/drive/MyDrive/da_cntt/RS\n",
        "!python LightGCN_bert_img.py --dataset vcr5p_late_fusion --Ks [1,5,10,20] --regs [1e-5] --embed_size 64 --layer_size [64,64,64] --lr 0.001 --batch_size 8192 --epoch 1000"
      ]
    },
    {
      "cell_type": "markdown",
      "metadata": {
        "id": "qwW3EILWg1K8"
      },
      "source": [
        "## LightGCN_only_img"
      ]
    },
    {
      "cell_type": "code",
      "execution_count": null,
      "metadata": {
        "colab": {
          "background_save": true
        },
        "id": "2T6RWT8Bg5xv",
        "outputId": "cefb4e83-fd55-4680-acfb-2f685fc3c8e8"
      },
      "outputs": [
        {
          "name": "stdout",
          "output_type": "stream",
          "text": [
            "/content/drive/MyDrive/da_cntt/RS\n",
            "2025-02-07 16:24:36.176705: E external/local_xla/xla/stream_executor/cuda/cuda_fft.cc:477] Unable to register cuFFT factory: Attempting to register factory for plugin cuFFT when one has already been registered\n",
            "WARNING: All log messages before absl::InitializeLog() is called are written to STDERR\n",
            "E0000 00:00:1738945476.266076  107566 cuda_dnn.cc:8310] Unable to register cuDNN factory: Attempting to register factory for plugin cuDNN when one has already been registered\n",
            "E0000 00:00:1738945476.289927  107566 cuda_blas.cc:1418] Unable to register cuBLAS factory: Attempting to register factory for plugin cuBLAS when one has already been registered\n",
            "eval_score_matrix_foldout with python\n",
            "n_users=148, n_items=1999\n",
            "n_interactions=2355\n",
            "n_train=1825, n_test=530, sparsity=0.00796\n",
            "2025-02-07 16:24:55.257526: E external/local_xla/xla/stream_executor/cuda/cuda_driver.cc:152] failed call to cuInit: INTERNAL: CUDA error: Failed call to cuInit: UNKNOWN ERROR (303)\n",
            "already load interaction adj matrix (2147, 2147) 0.2464439868927002\n",
            "already load social adj matrix (148, 148) 0.5031044483184814\n",
            "already load similar users adj matrix (148, 148) 0.5192501544952393\n",
            "already load tfidf item similarity adj matrix (1999, 1999) 0.3732035160064697\n",
            "already load bert item similarity adj matrix (1999, 1999) 0.22912883758544922\n",
            "already load full bert item similarity adj matrix (1999, 1999) 0.9939837455749512\n",
            "already load multimodal similarity adj matrix (1999, 1999) 1.058321475982666\n",
            "already load img similarity adj matrix (1999, 1999) 0.27743983268737793\n",
            "using xavier initialization\n",
            "WARNING: All log messages before absl::InitializeLog() is called are written to STDERR\n",
            "I0000 00:00:1738945500.829375  107566 mlir_graph_optimization_pass.cc:401] MLIR V1 optimization pass is not enabled\n",
            "without pretraining.\n",
            "Epoch 1 [1.1s]: train==[0.66045=0.66044 + 0.00000]\n",
            "Epoch 2 [0.6s]: train==[0.65848=0.65848 + 0.00000]\n",
            "Epoch 3 [0.6s]: train==[0.65556=0.65555 + 0.00000]\n",
            "Epoch 4 [0.6s]: train==[0.65294=0.65293 + 0.00000]\n",
            "Epoch 5 [0.6s]: train==[0.64984=0.64984 + 0.00000]\n",
            "Epoch 6 [0.6s]: train==[0.64719=0.64718 + 0.00000]\n",
            "Epoch 7 [0.6s]: train==[0.64406=0.64405 + 0.00000]\n",
            "Epoch 8 [0.6s]: train==[0.64080=0.64079 + 0.00000]\n",
            "Epoch 9 [0.4s]: train==[0.63716=0.63716 + 0.00000]\n",
            "Epoch 10: train==[0.63359=0.63359 + 0.00000 + 0.00000], recall=[0.09109, 0.44780, 0.79657, 0.94022], precision=[0.98649, 0.97162, 0.88378, 0.55574], ndcg=[0.98649, 0.97540, 0.95653, 0.95823], mrr=[0.98649, 4.85811, 8.83784, 11.11487], hit_ratio=[0.98649, 2.23288, 2.76336, 2.93093]\n",
            "Epoch 10: train==[0.63359=0.63359 + 0.00000 + 0.00000], recall=[0.00169, 0.00169, 0.00169, 0.00957], precision=[0.00676, 0.00135, 0.00068, 0.00135], ndcg=[0.00676, 0.00264, 0.00264, 0.00518], hit_ratio=[0.00676, 0.00676, 0.00676, 0.00803], mrr=[0.00676, 0.00676, 0.00676, 0.02703]\n",
            "save the weights in path:  weights/vcr1p_img_m1_img/combigcn/64-64-64/l0.001_r1e-05\n",
            "Epoch 11 [0.4s]: train==[0.63060=0.63059 + 0.00000]\n",
            "Epoch 12 [0.4s]: train==[0.62699=0.62699 + 0.00000]\n",
            "Epoch 13 [0.4s]: train==[0.62346=0.62346 + 0.00000]\n",
            "Epoch 14 [0.4s]: train==[0.61921=0.61920 + 0.00000]\n",
            "Epoch 15 [0.4s]: train==[0.61522=0.61522 + 0.00000]\n",
            "Epoch 16 [0.4s]: train==[0.61118=0.61118 + 0.00000]\n",
            "Epoch 17 [0.4s]: train==[0.60631=0.60630 + 0.00000]\n",
            "Epoch 18 [0.4s]: train==[0.60196=0.60195 + 0.00000]\n",
            "Epoch 19 [0.3s]: train==[0.59722=0.59722 + 0.00000]\n",
            "Epoch 20: train==[0.59277=0.59277 + 0.00000 + 0.00000], recall=[0.09147, 0.45176, 0.80672, 0.94678], precision=[0.99324, 0.98108, 0.89797, 0.56216], ndcg=[0.99324, 0.98480, 0.96922, 0.96725], mrr=[0.99324, 4.90541, 8.97973, 11.24324], hit_ratio=[0.99324, 2.25417, 2.79568, 2.96274]\n",
            "Epoch 20: train==[0.59277=0.59277 + 0.00000 + 0.00000], recall=[0.00000, 0.00169, 0.00169, 0.00169], precision=[0.00000, 0.00135, 0.00068, 0.00034], ndcg=[0.00000, 0.00132, 0.00132, 0.00132], hit_ratio=[0.00000, 0.00225, 0.00225, 0.00225], mrr=[0.00000, 0.00676, 0.00676, 0.00676]\n",
            "Epoch 21 [0.4s]: train==[0.58813=0.58813 + 0.00001]\n",
            "Epoch 22 [0.4s]: train==[0.58310=0.58309 + 0.00001]\n",
            "Epoch 23 [0.4s]: train==[0.57739=0.57739 + 0.00001]\n",
            "Epoch 24 [0.3s]: train==[0.57225=0.57224 + 0.00001]\n",
            "Epoch 25 [0.4s]: train==[0.56774=0.56774 + 0.00001]\n",
            "Epoch 26 [0.3s]: train==[0.56186=0.56185 + 0.00001]\n",
            "Epoch 27 [0.4s]: train==[0.55656=0.55655 + 0.00001]\n",
            "Epoch 28 [0.5s]: train==[0.55063=0.55063 + 0.00001]\n",
            "Epoch 29 [0.6s]: train==[0.54449=0.54448 + 0.00001]\n",
            "Epoch 30: train==[0.53901=0.53901 + 0.00001 + 0.00000], recall=[0.09189, 0.45309, 0.80650, 0.94813], precision=[1.00000, 0.98649, 0.89662, 0.56385], ndcg=[1.00000, 0.98900, 0.96904, 0.96890], mrr=[1.00000, 4.93243, 8.96622, 11.27703], hit_ratio=[1.00000, 2.26216, 2.79858, 2.96954]\n",
            "Epoch 30: train==[0.53901=0.53901 + 0.00001 + 0.00000], recall=[0.00000, 0.00000, 0.00169, 0.00434], precision=[0.00000, 0.00000, 0.00068, 0.00101], ndcg=[0.00000, 0.00000, 0.00083, 0.00187], hit_ratio=[0.00000, 0.00000, 0.00084, 0.00156], mrr=[0.00000, 0.00000, 0.00676, 0.02027]\n",
            "Epoch 31 [0.6s]: train==[0.53191=0.53191 + 0.00001]\n",
            "Epoch 32 [0.6s]: train==[0.52651=0.52650 + 0.00001]\n",
            "Epoch 33 [0.6s]: train==[0.52085=0.52084 + 0.00001]\n",
            "Epoch 34 [0.4s]: train==[0.51312=0.51311 + 0.00001]\n",
            "Epoch 35 [0.3s]: train==[0.50645=0.50644 + 0.00001]\n",
            "Epoch 36 [0.3s]: train==[0.50129=0.50128 + 0.00001]\n",
            "Epoch 37 [0.5s]: train==[0.49426=0.49426 + 0.00001]\n",
            "Epoch 38 [0.3s]: train==[0.48716=0.48716 + 0.00001]\n",
            "Epoch 39 [0.3s]: train==[0.48052=0.48052 + 0.00001]\n",
            "Epoch 40: train==[0.47353=0.47353 + 0.00001 + 0.00000], recall=[0.09189, 0.45292, 0.80930, 0.94928], precision=[1.00000, 0.98649, 0.89933, 0.56486], ndcg=[1.00000, 0.98906, 0.97053, 0.96958], mrr=[1.00000, 4.93243, 8.99324, 11.29730], hit_ratio=[1.00000, 2.26239, 2.80043, 2.97041]\n",
            "Epoch 40: train==[0.47353=0.47353 + 0.00001 + 0.00000], recall=[0.00000, 0.00000, 0.00000, 0.00509], precision=[0.00000, 0.00000, 0.00000, 0.00135], ndcg=[0.00000, 0.00000, 0.00000, 0.00217], hit_ratio=[0.00000, 0.00000, 0.00000, 0.00173], mrr=[0.00000, 0.00000, 0.00000, 0.02703]\n",
            "Epoch 41 [0.4s]: train==[0.46686=0.46686 + 0.00001]\n",
            "Epoch 42 [0.4s]: train==[0.45920=0.45919 + 0.00001]\n",
            "Epoch 43 [0.4s]: train==[0.45276=0.45275 + 0.00001]\n",
            "Epoch 44 [0.4s]: train==[0.44628=0.44627 + 0.00001]\n",
            "Epoch 45 [0.4s]: train==[0.43893=0.43893 + 0.00001]\n",
            "Epoch 46 [0.4s]: train==[0.43308=0.43308 + 0.00001]\n",
            "Epoch 47 [0.4s]: train==[0.42485=0.42485 + 0.00001]\n",
            "Epoch 48 [0.4s]: train==[0.41707=0.41707 + 0.00001]\n",
            "Epoch 49 [0.3s]: train==[0.40965=0.40964 + 0.00001]\n",
            "Epoch 50: train==[0.40173=0.40172 + 0.00001 + 0.00000], recall=[0.09189, 0.45056, 0.80525, 0.95015], precision=[1.00000, 0.98243, 0.89595, 0.56588], ndcg=[1.00000, 0.98685, 0.96817, 0.97018], mrr=[1.00000, 4.91216, 8.95946, 11.31757], hit_ratio=[1.00000, 2.26002, 2.79727, 2.97237]\n",
            "Epoch 50: train==[0.40173=0.40172 + 0.00001 + 0.00000], recall=[0.00000, 0.00000, 0.00000, 0.00244], precision=[0.00000, 0.00000, 0.00000, 0.00068], ndcg=[0.00000, 0.00000, 0.00000, 0.00109], hit_ratio=[0.00000, 0.00000, 0.00000, 0.00096], mrr=[0.00000, 0.00000, 0.00000, 0.01351]\n",
            "Epoch 51 [0.4s]: train==[0.39674=0.39673 + 0.00001]\n",
            "Epoch 52 [0.3s]: train==[0.38633=0.38632 + 0.00001]\n",
            "Epoch 53 [0.4s]: train==[0.38160=0.38160 + 0.00001]\n",
            "Epoch 54 [0.4s]: train==[0.37515=0.37514 + 0.00001]\n",
            "Epoch 55 [0.5s]: train==[0.36847=0.36846 + 0.00001]\n",
            "Epoch 56 [0.6s]: train==[0.36044=0.36043 + 0.00001]\n",
            "Epoch 57 [0.5s]: train==[0.35414=0.35413 + 0.00001]\n",
            "Epoch 58 [0.6s]: train==[0.34717=0.34716 + 0.00001]\n",
            "Epoch 59 [0.5s]: train==[0.33789=0.33788 + 0.00001]\n",
            "Epoch 60: train==[0.33215=0.33214 + 0.00001 + 0.00000], recall=[0.09189, 0.44812, 0.80392, 0.94965], precision=[1.00000, 0.97838, 0.89527, 0.56588], ndcg=[1.00000, 0.98409, 0.96735, 0.96963], mrr=[1.00000, 4.89189, 8.95270, 11.31757], hit_ratio=[1.00000, 2.25563, 2.79519, 2.97066]\n",
            "Epoch 60: train==[0.33215=0.33214 + 0.00001 + 0.00000], recall=[0.00000, 0.00000, 0.00000, 0.00413], precision=[0.00000, 0.00000, 0.00000, 0.00101], ndcg=[0.00000, 0.00000, 0.00000, 0.00171], hit_ratio=[0.00000, 0.00000, 0.00000, 0.00134], mrr=[0.00000, 0.00000, 0.00000, 0.02027]\n",
            "Early stopping is triggered at step: 5 log:[0.         0.         0.         0.00412913]\n",
            "Best Iter=[0]@[38.1]\trecall=[0.00169\t0.00169\t0.00169\t0.00957], precision=[0.00676\t0.00135\t0.00068\t0.00135], ndcg=[0.00676\t0.00264\t0.00264\t0.00518], hit_ratio=[0.00676\t0.00676\t0.00676\t0.00803], mrr=[0.00676\t0.00676\t0.00676\t0.02703]\n"
          ]
        }
      ],
      "source": [
        "%cd /content/drive/MyDrive/da_cntt/RS\n",
        "!python LightGCN_only_img.py --dataset vcr1p_img_m1_img --Ks [1,5,10,20] --regs [1e-5] --embed_size 64 --layer_size [64,64,64] --lr 0.001 --batch_size 8192 --epoch 1000"
      ]
    }
  ],
  "metadata": {
    "colab": {
      "provenance": [],
      "toc_visible": true
    },
    "kernelspec": {
      "display_name": "Python 3",
      "name": "python3"
    },
    "language_info": {
      "name": "python"
    }
  },
  "nbformat": 4,
  "nbformat_minor": 0
}